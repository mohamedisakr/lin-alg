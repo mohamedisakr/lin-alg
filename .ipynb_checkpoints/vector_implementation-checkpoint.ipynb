{
 "cells": [
  {
   "cell_type": "code",
   "execution_count": 1,
   "id": "a40bb4d5",
   "metadata": {},
   "outputs": [],
   "source": [
    "class Vector():\n",
    "    def __init__(self, coordinates):\n",
    "        try:\n",
    "            if not coordinates:\n",
    "                raise ValueError\n",
    "            self.coordinates = tuple(coordinates)\n",
    "            self.dimension = len(coordinates)\n",
    "        except ValueError:\n",
    "            raise ValueError('The coordinates must be nonempty')\n",
    "        except TypeError:\n",
    "            raise TypeError('The coordinates must be an iterable')\n",
    "\n",
    "    def _str_(self):\n",
    "        return f\"Vector: {self.coordinates}\"\n",
    "\n",
    "    def __eq__(self, v):\n",
    "        return self.coordinates == v.coordinates"
   ]
  },
  {
   "cell_type": "code",
   "execution_count": 2,
   "id": "ab7e9753",
   "metadata": {},
   "outputs": [
    {
     "name": "stdout",
     "output_type": "stream",
     "text": [
      "<__main__.Vector object at 0x0000014F815FF9D0>\n",
      "True\n",
      "False\n"
     ]
    }
   ],
   "source": [
    "my_vector = Vector([1, 2, 3])\n",
    "print(my_vector)\n",
    "\n",
    "my_vector2 = Vector([1, 2, 3])\n",
    "my_vector3 = Vector([-1, 2, 3])\n",
    "\n",
    "print(my_vector == my_vector2)\n",
    "print(my_vector == my_vector3)"
   ]
  },
  {
   "cell_type": "code",
   "execution_count": null,
   "id": "760793cc",
   "metadata": {},
   "outputs": [],
   "source": []
  }
 ],
 "metadata": {
  "kernelspec": {
   "display_name": "Python 3 (ipykernel)",
   "language": "python",
   "name": "python3"
  },
  "language_info": {
   "codemirror_mode": {
    "name": "ipython",
    "version": 3
   },
   "file_extension": ".py",
   "mimetype": "text/x-python",
   "name": "python",
   "nbconvert_exporter": "python",
   "pygments_lexer": "ipython3",
   "version": "3.9.12"
  }
 },
 "nbformat": 4,
 "nbformat_minor": 5
}
