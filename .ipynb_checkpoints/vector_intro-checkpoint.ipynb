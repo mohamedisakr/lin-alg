{
 "cells": [
  {
   "cell_type": "code",
   "execution_count": 1,
   "id": "c6ecfa5d",
   "metadata": {},
   "outputs": [],
   "source": [
    "import numpy as np"
   ]
  },
  {
   "cell_type": "markdown",
   "id": "5e880770",
   "metadata": {},
   "source": [
    "### 4 ways of creating a vector"
   ]
  },
  {
   "cell_type": "code",
   "execution_count": 2,
   "id": "3dfed49c",
   "metadata": {},
   "outputs": [
    {
     "data": {
      "text/plain": [
       "[1, 2, 3]"
      ]
     },
     "execution_count": 2,
     "metadata": {},
     "output_type": "execute_result"
    }
   ],
   "source": [
    "# 1. python list type\n",
    "asList = [1,2,3]\n",
    "asList"
   ]
  },
  {
   "cell_type": "code",
   "execution_count": 3,
   "id": "2cdfd760",
   "metadata": {},
   "outputs": [
    {
     "data": {
      "text/plain": [
       "array([1, 2, 3])"
      ]
     },
     "execution_count": 3,
     "metadata": {},
     "output_type": "execute_result"
    }
   ],
   "source": [
    "# 2. NumPy 1D array\n",
    "asArray = np.array([1,2,3])\n",
    "asArray"
   ]
  },
  {
   "cell_type": "code",
   "execution_count": 4,
   "id": "09cc97cb",
   "metadata": {},
   "outputs": [
    {
     "data": {
      "text/plain": [
       "array([[1, 2, 3]])"
      ]
     },
     "execution_count": 4,
     "metadata": {},
     "output_type": "execute_result"
    }
   ],
   "source": [
    "# 3. NumPy row vector\n",
    "rowVec = np.array([ [1,2,3] ]) \n",
    "rowVec"
   ]
  },
  {
   "cell_type": "code",
   "execution_count": 5,
   "id": "3d387ed0",
   "metadata": {},
   "outputs": [
    {
     "data": {
      "text/plain": [
       "array([[1],\n",
       "       [2],\n",
       "       [3]])"
      ]
     },
     "execution_count": 5,
     "metadata": {},
     "output_type": "execute_result"
    }
   ],
   "source": [
    "# 4. NumPy column vector\n",
    "colVec = np.array([ [1],[2],[3] ])\n",
    "colVec"
   ]
  },
  {
   "cell_type": "code",
   "execution_count": 6,
   "id": "a40a55a4",
   "metadata": {},
   "outputs": [
    {
     "data": {
      "text/plain": [
       "array([[1],\n",
       "       [2],\n",
       "       [3]])"
      ]
     },
     "execution_count": 6,
     "metadata": {},
     "output_type": "execute_result"
    }
   ],
   "source": [
    "# another way to create NumPy column vector\n",
    "otherColVec = np.array([ [1,2,3] ]).T\n",
    "otherColVec"
   ]
  },
  {
   "cell_type": "code",
   "execution_count": 7,
   "id": "285fde7a",
   "metadata": {},
   "outputs": [
    {
     "name": "stdout",
     "output_type": "stream",
     "text": [
      "asList: (3,)\n",
      "asArray: (3,)\n",
      "rowVec: (1, 3)\n",
      "colVec: (3, 1)\n"
     ]
    }
   ],
   "source": [
    "# checking orientation by examining variables shape\n",
    "# dimensions are always listed as (rows , columns)\n",
    "print(f'asList: {np.shape(asList)}') \n",
    "print(f'asArray: {asArray.shape}') \n",
    "print(f'rowVec: {rowVec.shape}') \n",
    "print(f'colVec: {colVec.shape}') "
   ]
  },
  {
   "cell_type": "code",
   "execution_count": null,
   "id": "f5fd9694",
   "metadata": {},
   "outputs": [],
   "source": []
  }
 ],
 "metadata": {
  "kernelspec": {
   "display_name": "Python 3 (ipykernel)",
   "language": "python",
   "name": "python3"
  },
  "language_info": {
   "codemirror_mode": {
    "name": "ipython",
    "version": 3
   },
   "file_extension": ".py",
   "mimetype": "text/x-python",
   "name": "python",
   "nbconvert_exporter": "python",
   "pygments_lexer": "ipython3",
   "version": "3.9.12"
  }
 },
 "nbformat": 4,
 "nbformat_minor": 5
}
