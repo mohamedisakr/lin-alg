{
 "cells": [
  {
   "cell_type": "code",
   "execution_count": 1,
   "id": "132ae84f",
   "metadata": {},
   "outputs": [],
   "source": [
    "import numpy as np\n",
    "import matplotlib.pyplot as plt\n",
    "from mpl_toolkits.mplot3d import axes3d"
   ]
  },
  {
   "cell_type": "code",
   "execution_count": 4,
   "id": "b0869c8c",
   "metadata": {},
   "outputs": [],
   "source": [
    "v1 = np.array([4, 8, 10])\n",
    "v2 = np.array([9, 2, 7])"
   ]
  },
  {
   "cell_type": "code",
   "execution_count": 6,
   "id": "0a780050",
   "metadata": {},
   "outputs": [
    {
     "name": "stdout",
     "output_type": "stream",
     "text": [
      "122\n",
      "122\n",
      "122\n",
      "122\n"
     ]
    }
   ],
   "source": [
    "# many ways to calculate dot product\n",
    "\n",
    "# first method\n",
    "first = sum(np.multiply(v1, v2))\n",
    "print(first )\n",
    "\n",
    "# second method <recommended>\n",
    "second = np.dot(v1, v2)\n",
    "print(second)\n",
    "\n",
    "# third method\n",
    "third = np.matmul(v1, v2)\n",
    "print(third)\n",
    "\n",
    "# fourth method (using loop) just to show the mechanism of dot product\n",
    "fourth = 0\n",
    "for i in range(len(v1)):\n",
    "    fourth += v1[i] * v2[i]\n",
    "\n",
    "print(fourth)"
   ]
  },
  {
   "cell_type": "markdown",
   "id": "f9768c33",
   "metadata": {},
   "source": [
    "#### distributive property"
   ]
  },
  {
   "cell_type": "code",
   "execution_count": 7,
   "id": "6da7ba0b",
   "metadata": {},
   "outputs": [],
   "source": [
    "# 3 vector\n",
    "n = 3\n",
    "a = np.random.randn(n)\n",
    "b = np.random.randn(n)\n",
    "c = np.random.randn(n)"
   ]
  },
  {
   "cell_type": "code",
   "execution_count": 8,
   "id": "85f4ebe2",
   "metadata": {},
   "outputs": [
    {
     "name": "stdout",
     "output_type": "stream",
     "text": [
      "-1.4679234511519959\n",
      "-1.467923451151996\n"
     ]
    }
   ],
   "source": [
    "# a . (b + c) = a . b + a . c\n",
    "ans1 = np.dot(a, (b+c))\n",
    "ans2 = np.dot(a, b) + np.dot(a,c)\n",
    "\n",
    "print(ans1)\n",
    "print(ans2)"
   ]
  },
  {
   "cell_type": "markdown",
   "id": "dcadd77a",
   "metadata": {},
   "source": [
    "#### associative property"
   ]
  },
  {
   "cell_type": "code",
   "execution_count": 11,
   "id": "6eba8bec",
   "metadata": {},
   "outputs": [],
   "source": [
    "# assoviative property hold in 2 cases\n",
    "# 1. one of vectors is zero vector\n",
    "# 2. a = b = c\n",
    "\n",
    "\n",
    "# 3 vector\n",
    "n = 3\n",
    "a = np.random.randn(n)\n",
    "b = np.random.randn(n)\n",
    "c = np.random.randn(n)"
   ]
  },
  {
   "cell_type": "code",
   "execution_count": 12,
   "id": "08dc8e40",
   "metadata": {},
   "outputs": [
    {
     "name": "stdout",
     "output_type": "stream",
     "text": [
      "[-0.02442894 -0.03043973  0.01016442]\n",
      "[ 2.1848717   0.9907033  -1.52209486]\n"
     ]
    }
   ],
   "source": [
    "# (a . b) . c = a . (b . c)\n",
    "ans1 = np.dot(np.dot(a, b), c)\n",
    "ans2 = np.dot(a, np.dot(b, c))\n",
    "\n",
    "print(ans1)\n",
    "print(ans2)"
   ]
  },
  {
   "cell_type": "code",
   "execution_count": null,
   "id": "2d8aa7e8",
   "metadata": {},
   "outputs": [],
   "source": []
  }
 ],
 "metadata": {
  "kernelspec": {
   "display_name": "Python 3 (ipykernel)",
   "language": "python",
   "name": "python3"
  },
  "language_info": {
   "codemirror_mode": {
    "name": "ipython",
    "version": 3
   },
   "file_extension": ".py",
   "mimetype": "text/x-python",
   "name": "python",
   "nbconvert_exporter": "python",
   "pygments_lexer": "ipython3",
   "version": "3.9.12"
  }
 },
 "nbformat": 4,
 "nbformat_minor": 5
}
