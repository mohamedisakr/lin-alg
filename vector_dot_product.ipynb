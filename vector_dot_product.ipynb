{
 "cells": [
  {
   "cell_type": "code",
   "execution_count": 1,
   "id": "1765aba4",
   "metadata": {},
   "outputs": [],
   "source": [
    "import numpy as np\n",
    "import matplotlib.pyplot as plt\n",
    "from mpl_toolkits.mplot3d import axes3d"
   ]
  },
  {
   "cell_type": "code",
   "execution_count": 4,
   "id": "57c961f3",
   "metadata": {},
   "outputs": [],
   "source": [
    "v1 = np.array([4, 8, 10])\n",
    "v2 = np.array([9, 2, 7])"
   ]
  },
  {
   "cell_type": "code",
   "execution_count": 6,
   "id": "436ddd87",
   "metadata": {},
   "outputs": [
    {
     "name": "stdout",
     "output_type": "stream",
     "text": [
      "122\n",
      "122\n",
      "122\n",
      "122\n"
     ]
    }
   ],
   "source": [
    "# many ways to calculate dot product\n",
    "\n",
    "# first method\n",
    "first = sum(np.multiply(v1, v2))\n",
    "print(first )\n",
    "\n",
    "# second method <recommended>\n",
    "second = np.dot(v1, v2)\n",
    "print(second)\n",
    "\n",
    "# third method\n",
    "third = np.matmul(v1, v2)\n",
    "print(third)\n",
    "\n",
    "# fourth method (using loop) just to show the mechanism of dot product\n",
    "fourth = 0\n",
    "for i in range(len(v1)):\n",
    "    fourth += v1[i] * v2[i]\n",
    "\n",
    "print(fourth)"
   ]
  },
  {
   "cell_type": "code",
   "execution_count": null,
   "id": "b6553074",
   "metadata": {},
   "outputs": [],
   "source": []
  }
 ],
 "metadata": {
  "kernelspec": {
   "display_name": "Python 3 (ipykernel)",
   "language": "python",
   "name": "python3"
  },
  "language_info": {
   "codemirror_mode": {
    "name": "ipython",
    "version": 3
   },
   "file_extension": ".py",
   "mimetype": "text/x-python",
   "name": "python",
   "nbconvert_exporter": "python",
   "pygments_lexer": "ipython3",
   "version": "3.9.12"
  }
 },
 "nbformat": 4,
 "nbformat_minor": 5
}
