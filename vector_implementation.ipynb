{
 "cells": [
  {
   "cell_type": "code",
   "execution_count": 14,
   "id": "13ff4ddc",
   "metadata": {},
   "outputs": [],
   "source": [
    "from math import sqrt, pi, acos\n",
    "from decimal import Decimal, getcontext"
   ]
  },
  {
   "cell_type": "code",
   "execution_count": 15,
   "id": "49a6cac0",
   "metadata": {},
   "outputs": [],
   "source": [
    "getcontext().prec = 30"
   ]
  },
  {
   "cell_type": "code",
   "execution_count": 24,
   "id": "10bb27ad",
   "metadata": {},
   "outputs": [],
   "source": [
    "class Vector():\n",
    "    \n",
    "    CANNOT_NORMALIZE_ZERO_VECTOR_MSG = 'Cannot normalize the zero vector' \n",
    "    \n",
    "    def __init__(self, coordinates):\n",
    "        try:\n",
    "            if not coordinates:\n",
    "                raise ValueError\n",
    "            self.coordinates = tuple([x for x in coordinates]) # [Decimal(x)\n",
    "            self.dimension = len(coordinates)\n",
    "        except ValueError:\n",
    "            raise ValueError('The coordinates must be nonempty')\n",
    "        except TypeError:\n",
    "            raise TypeError('The coordinates must be an iterable')\n",
    "\n",
    "    def add(self, v):\n",
    "        coords = [x + y for x, y in zip(self.coordinates, v.coordinates)]\n",
    "        return Vector(coords)\n",
    "    \n",
    "    def subtract(self, v):\n",
    "        coords = [x - y for x, y in zip(self.coordinates, v.coordinates)]\n",
    "        return Vector(coords)\n",
    "    \n",
    "    def scalar_multiply(self, c):\n",
    "        coords = [c*x for x in self.coordinates] # Decimal(c)\n",
    "        return Vector(coords)\n",
    "    \n",
    "    def magnitude(self):\n",
    "        coords_squared = [x**2 for x in self.coordinates]\n",
    "        return sqrt(sum(coords_squared))\n",
    "    \n",
    "    def normalize(self):\n",
    "        try:\n",
    "            length = self.magnitude()\n",
    "            return self.scalar_multiply(1.0/length) # Decimal('1.0')\n",
    "        except ZeroDivisionError:\n",
    "            raise Exception(\"Can not normalize the zero vector\")\n",
    "            \n",
    "    \n",
    "    def dot(self, v):\n",
    "        return sum([x*y for x, y in zip(self.coordinates, v.coordinates)])\n",
    "    \n",
    "    def angle(self, v, in_degrees = False):\n",
    "        try:\n",
    "            u1 = self.normalize()\n",
    "            u2 = v.normalize()\n",
    "            radians = acos(u1.dot(u2))\n",
    "            \n",
    "            if in_degrees:\n",
    "                degrees_per_randian = 180.0 / pi\n",
    "                return radians * degrees_per_randian\n",
    "            else:\n",
    "                return radians\n",
    "        except Exception as e:\n",
    "            if str(e) == self.CANNOT_NORMALIZE_ZERO_VECTOR_MSG:\n",
    "                raise Exception(\"Can not compute an angle with the zero vector\")\n",
    "            else:\n",
    "                raise e\n",
    "                    \n",
    "            \n",
    "            \n",
    "    def __str__(self):\n",
    "        return f\"Vector: {self.coordinates}\"\n",
    "\n",
    "    def __eq__(self, v):\n",
    "        return self.coordinates == v.coordinates"
   ]
  },
  {
   "cell_type": "code",
   "execution_count": 25,
   "id": "0897e5d8",
   "metadata": {},
   "outputs": [
    {
     "name": "stdout",
     "output_type": "stream",
     "text": [
      "Vector: (1, 2, 3)\n",
      "True\n",
      "False\n"
     ]
    }
   ],
   "source": [
    "my_vector = Vector([1, 2, 3])\n",
    "print(my_vector)\n",
    "\n",
    "my_vector2 = Vector([1, 2, 3])\n",
    "my_vector3 = Vector([-1, 2, 3])\n",
    "\n",
    "print(my_vector == my_vector2)\n",
    "print(my_vector == my_vector3)"
   ]
  },
  {
   "cell_type": "code",
   "execution_count": 26,
   "id": "d181565e",
   "metadata": {},
   "outputs": [
    {
     "name": "stdout",
     "output_type": "stream",
     "text": [
      "Vector: (7.089, -7.229999999999999)\n",
      "Vector: (15.342, 7.337)\n",
      "Vector: (12.38211, -7.49892, -2.35638)\n"
     ]
    }
   ],
   "source": [
    "v = Vector([8.218,-9.341])\n",
    "w = Vector([-1.129,2.111])\n",
    "print(v.add(w))\n",
    "\n",
    "v = Vector([7.119,8.215]) \n",
    "w = Vector([-8.223,0.878])\n",
    "print(v.subtract(w))\n",
    "\n",
    "v = Vector([1.671,-1.012, -0.318])\n",
    "c = 7.41 \n",
    "print(v.scalar_multiply(c))"
   ]
  },
  {
   "cell_type": "code",
   "execution_count": 27,
   "id": "38b12ed1",
   "metadata": {},
   "outputs": [
    {
     "name": "stdout",
     "output_type": "stream",
     "text": [
      "7.440282924728065\n",
      "10.884187567292289\n",
      "Vector: (0.9339352140866403, -0.35744232526233)\n",
      "Vector: (0.3404012959433014, 0.5300437012984873, -0.7766470449528029)\n"
     ]
    }
   ],
   "source": [
    "v = Vector([-0.221, 7.437]) \n",
    "print(v.magnitude())\n",
    "\n",
    "v = Vector([8.813, -1.331, -6.247]) \n",
    "print(v. magnitude())\n",
    "\n",
    "v = Vector([5.581, -2.136]) \n",
    "print(v.normalize())\n",
    "\n",
    "v = Vector([1.996, 3.108, -4.554]) \n",
    "print(v.normalize())"
   ]
  },
  {
   "cell_type": "code",
   "execution_count": 32,
   "id": "2c06e2df",
   "metadata": {},
   "outputs": [
    {
     "name": "stdout",
     "output_type": "stream",
     "text": [
      "-41.382286\n",
      "56.397178000000004\n",
      "3.072026309837249\n",
      "60.27581120523091\n"
     ]
    }
   ],
   "source": [
    "v = Vector([7.887, 4.138]) \n",
    "w = Vector([-8.802, 6.776]) \n",
    "print(v.dot(w))\n",
    "\n",
    "v = Vector([-5.955, -4.904, -1.874]) \n",
    "w = Vector([-4.496, -8.755, 7.103]) \n",
    "print(v.dot(w))\n",
    "\n",
    "v = Vector([3.183, -7.627]) \n",
    "w = Vector([-2.668, 5.319]) \n",
    "print(v.angle(w))\n",
    "\n",
    "v = Vector([7.35, 0.221, 5.188]) \n",
    "w = Vector([2.751, 8.259, 3.985]) \n",
    "print(v.angle(w, in_degrees = True))"
   ]
  },
  {
   "cell_type": "code",
   "execution_count": null,
   "id": "52f3beda",
   "metadata": {},
   "outputs": [],
   "source": []
  }
 ],
 "metadata": {
  "kernelspec": {
   "display_name": "Python 3 (ipykernel)",
   "language": "python",
   "name": "python3"
  },
  "language_info": {
   "codemirror_mode": {
    "name": "ipython",
    "version": 3
   },
   "file_extension": ".py",
   "mimetype": "text/x-python",
   "name": "python",
   "nbconvert_exporter": "python",
   "pygments_lexer": "ipython3",
   "version": "3.9.12"
  }
 },
 "nbformat": 4,
 "nbformat_minor": 5
}
