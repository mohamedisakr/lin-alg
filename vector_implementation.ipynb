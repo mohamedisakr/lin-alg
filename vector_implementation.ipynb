{
 "cells": [
  {
   "cell_type": "code",
   "execution_count": 1,
   "id": "13ff4ddc",
   "metadata": {},
   "outputs": [],
   "source": [
    "from math import sqrt"
   ]
  },
  {
   "cell_type": "code",
   "execution_count": 15,
   "id": "10bb27ad",
   "metadata": {},
   "outputs": [],
   "source": [
    "class Vector():\n",
    "    def __init__(self, coordinates):\n",
    "        try:\n",
    "            if not coordinates:\n",
    "                raise ValueError\n",
    "            self.coordinates = tuple(coordinates)\n",
    "            self.dimension = len(coordinates)\n",
    "        except ValueError:\n",
    "            raise ValueError('The coordinates must be nonempty')\n",
    "        except TypeError:\n",
    "            raise TypeError('The coordinates must be an iterable')\n",
    "\n",
    "    def plus(self, v):\n",
    "        coords = [x + y for x, y in zip(self.coordinates, v.coordinates)]\n",
    "        return Vector(coords)\n",
    "    \n",
    "    def minus(self, v):\n",
    "        coords = [x - y for x, y in zip(self.coordinates, v.coordinates)]\n",
    "        return Vector(coords)\n",
    "    \n",
    "    def scalar_multiply(self, c):\n",
    "        coords = [c*x for x in self.coordinates]\n",
    "        return Vector(coords)\n",
    "    \n",
    "    def magnitude(self):\n",
    "        coords_squared = [x**2 for x in self.coordinates]\n",
    "        return sqrt(sum(coords_squared))\n",
    "    \n",
    "    def normalize(self):\n",
    "        try:\n",
    "            length = self.magnitude()\n",
    "            return self.scalar_multiply(1.0/length)\n",
    "        except ZeroDivisionError:\n",
    "            raise Exception(\"Can not normalize the zero vector\")\n",
    "            \n",
    "    def __str__(self):\n",
    "        return f\"Vector: {self.coordinates}\"\n",
    "\n",
    "    def __eq__(self, v):\n",
    "        return self.coordinates == v.coordinates"
   ]
  },
  {
   "cell_type": "code",
   "execution_count": 3,
   "id": "0897e5d8",
   "metadata": {},
   "outputs": [
    {
     "name": "stdout",
     "output_type": "stream",
     "text": [
      "Vector: (1, 2, 3)\n",
      "True\n",
      "False\n"
     ]
    }
   ],
   "source": [
    "my_vector = Vector([1, 2, 3])\n",
    "print(my_vector)\n",
    "\n",
    "my_vector2 = Vector([1, 2, 3])\n",
    "my_vector3 = Vector([-1, 2, 3])\n",
    "\n",
    "print(my_vector == my_vector2)\n",
    "print(my_vector == my_vector3)"
   ]
  },
  {
   "cell_type": "code",
   "execution_count": 4,
   "id": "d181565e",
   "metadata": {},
   "outputs": [
    {
     "name": "stdout",
     "output_type": "stream",
     "text": [
      "Vector: (7.089, -7.229999999999999)\n",
      "Vector: (15.342, 7.337)\n",
      "Vector: (12.38211, -7.49892, -2.35638)\n"
     ]
    }
   ],
   "source": [
    "v = Vector([8.218,-9.341])\n",
    "w = Vector([-1.129,2.111])\n",
    "print(v.plus(w))\n",
    "\n",
    "v = Vector([7.119,8.215]) \n",
    "w = Vector([-8.223,0.878])\n",
    "print(v.minus(w))\n",
    "\n",
    "v = Vector([1.671,-1.012, -0.318])\n",
    "c = 7.41 \n",
    "print(v.scalar_multiply(c))"
   ]
  },
  {
   "cell_type": "code",
   "execution_count": 16,
   "id": "38b12ed1",
   "metadata": {},
   "outputs": [
    {
     "name": "stdout",
     "output_type": "stream",
     "text": [
      "7.440282924728065\n",
      "10.884187567292289\n",
      "Vector: (0.9339352140866403, -0.35744232526233)\n",
      "Vector: (0.3404012959433014, 0.5300437012984873, -0.7766470449528029)\n"
     ]
    }
   ],
   "source": [
    "v = Vector([-0.221, 7.437]) \n",
    "print(v.magnitude())\n",
    "\n",
    "v = Vector([8.813, -1.331, -6.247]) \n",
    "print(v. magnitude())\n",
    "\n",
    "v = Vector([5.581, -2.136]) \n",
    "print(v.normalize())\n",
    "\n",
    "v = Vector([1.996, 3.108, -4.554]) \n",
    "print(v.normalize())"
   ]
  },
  {
   "cell_type": "code",
   "execution_count": null,
   "id": "2c06e2df",
   "metadata": {},
   "outputs": [],
   "source": []
  }
 ],
 "metadata": {
  "kernelspec": {
   "display_name": "Python 3 (ipykernel)",
   "language": "python",
   "name": "python3"
  },
  "language_info": {
   "codemirror_mode": {
    "name": "ipython",
    "version": 3
   },
   "file_extension": ".py",
   "mimetype": "text/x-python",
   "name": "python",
   "nbconvert_exporter": "python",
   "pygments_lexer": "ipython3",
   "version": "3.9.12"
  }
 },
 "nbformat": 4,
 "nbformat_minor": 5
}
