{
 "cells": [
  {
   "cell_type": "code",
   "execution_count": 10,
   "id": "10bb27ad",
   "metadata": {},
   "outputs": [],
   "source": [
    "class Vector():\n",
    "    def __init__(self, coordinates):\n",
    "        try:\n",
    "            if not coordinates:\n",
    "                raise ValueError\n",
    "            self.coordinates = tuple(coordinates)\n",
    "            self.dimension = len(coordinates)\n",
    "        except ValueError:\n",
    "            raise ValueError('The coordinates must be nonempty')\n",
    "        except TypeError:\n",
    "            raise TypeError('The coordinates must be an iterable')\n",
    "\n",
    "    def plus(self, v):\n",
    "        coords = [x + y for x, y in zip(self.coordinates, v.coordinates)]\n",
    "        return Vector(coords)\n",
    "    \n",
    "    def minus(self, v):\n",
    "        coords = [x - y for x, y in zip(self.coordinates, v.coordinates)]\n",
    "        return Vector(coords)\n",
    "    \n",
    "    def scalar_multiply(self, c):\n",
    "        coords = [c*x for x in self.coordinates]\n",
    "        return Vector(coords)\n",
    "            \n",
    "    def __str__(self):\n",
    "        return f\"Vector: {self.coordinates}\"\n",
    "\n",
    "    def __eq__(self, v):\n",
    "        return self.coordinates == v.coordinates"
   ]
  },
  {
   "cell_type": "code",
   "execution_count": 11,
   "id": "0897e5d8",
   "metadata": {},
   "outputs": [
    {
     "name": "stdout",
     "output_type": "stream",
     "text": [
      "Vector: (1, 2, 3)\n",
      "True\n",
      "False\n"
     ]
    }
   ],
   "source": [
    "my_vector = Vector([1, 2, 3])\n",
    "print(my_vector)\n",
    "\n",
    "my_vector2 = Vector([1, 2, 3])\n",
    "my_vector3 = Vector([-1, 2, 3])\n",
    "\n",
    "print(my_vector == my_vector2)\n",
    "print(my_vector == my_vector3)"
   ]
  },
  {
   "cell_type": "code",
   "execution_count": 12,
   "id": "d181565e",
   "metadata": {},
   "outputs": [
    {
     "name": "stdout",
     "output_type": "stream",
     "text": [
      "Vector: (7.089, -7.229999999999999)\n",
      "Vector: (15.342, 7.337)\n",
      "Vector: (12.38211, -7.49892, -2.35638)\n"
     ]
    }
   ],
   "source": [
    "v = Vector([8.218,-9.341])\n",
    "w = Vector([-1.129,2.111])\n",
    "print(v.plus(w))\n",
    "\n",
    "v = Vector([7.119,8.215]) \n",
    "w = Vector([-8.223,0.878])\n",
    "print(v.minus(w))\n",
    "\n",
    "v = Vector([1.671,-1.012, -0.318])\n",
    "c = 7.41 \n",
    "print(v.scalar_multiply(c))"
   ]
  },
  {
   "cell_type": "code",
   "execution_count": null,
   "id": "38b12ed1",
   "metadata": {},
   "outputs": [],
   "source": []
  }
 ],
 "metadata": {
  "kernelspec": {
   "display_name": "Python 3 (ipykernel)",
   "language": "python",
   "name": "python3"
  },
  "language_info": {
   "codemirror_mode": {
    "name": "ipython",
    "version": 3
   },
   "file_extension": ".py",
   "mimetype": "text/x-python",
   "name": "python",
   "nbconvert_exporter": "python",
   "pygments_lexer": "ipython3",
   "version": "3.9.12"
  }
 },
 "nbformat": 4,
 "nbformat_minor": 5
}
