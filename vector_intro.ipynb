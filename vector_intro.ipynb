{
 "cells": [
  {
   "cell_type": "code",
   "execution_count": 1,
   "id": "c6ecfa5d",
   "metadata": {},
   "outputs": [],
   "source": [
    "import numpy as np"
   ]
  },
  {
   "cell_type": "markdown",
   "id": "0f8c8aba",
   "metadata": {},
   "source": [
    "### scalar"
   ]
  },
  {
   "cell_type": "code",
   "execution_count": 11,
   "id": "2d6e0ea9",
   "metadata": {},
   "outputs": [
    {
     "data": {
      "text/plain": [
       "2"
      ]
     },
     "execution_count": 11,
     "metadata": {},
     "output_type": "execute_result"
    }
   ],
   "source": [
    "s = 2\n",
    "s"
   ]
  },
  {
   "cell_type": "markdown",
   "id": "5e880770",
   "metadata": {},
   "source": [
    "### 4 ways of creating a vector"
   ]
  },
  {
   "cell_type": "code",
   "execution_count": 2,
   "id": "3dfed49c",
   "metadata": {},
   "outputs": [
    {
     "data": {
      "text/plain": [
       "[1, 2, 3]"
      ]
     },
     "execution_count": 2,
     "metadata": {},
     "output_type": "execute_result"
    }
   ],
   "source": [
    "# 1. python list type\n",
    "asList = [1,2,3]\n",
    "asList"
   ]
  },
  {
   "cell_type": "code",
   "execution_count": 3,
   "id": "2cdfd760",
   "metadata": {},
   "outputs": [
    {
     "data": {
      "text/plain": [
       "array([1, 2, 3])"
      ]
     },
     "execution_count": 3,
     "metadata": {},
     "output_type": "execute_result"
    }
   ],
   "source": [
    "# 2. NumPy 1D array\n",
    "asArray = np.array([1,2,3])\n",
    "asArray"
   ]
  },
  {
   "cell_type": "code",
   "execution_count": 4,
   "id": "09cc97cb",
   "metadata": {},
   "outputs": [
    {
     "data": {
      "text/plain": [
       "array([[1, 2, 3]])"
      ]
     },
     "execution_count": 4,
     "metadata": {},
     "output_type": "execute_result"
    }
   ],
   "source": [
    "# 3. NumPy row vector\n",
    "rowVec = np.array([ [1,2,3] ]) \n",
    "rowVec"
   ]
  },
  {
   "cell_type": "code",
   "execution_count": 5,
   "id": "3d387ed0",
   "metadata": {},
   "outputs": [
    {
     "data": {
      "text/plain": [
       "array([[1],\n",
       "       [2],\n",
       "       [3]])"
      ]
     },
     "execution_count": 5,
     "metadata": {},
     "output_type": "execute_result"
    }
   ],
   "source": [
    "# 4. NumPy column vector\n",
    "colVec = np.array([ [1],[2],[3] ])\n",
    "colVec"
   ]
  },
  {
   "cell_type": "code",
   "execution_count": 8,
   "id": "a40a55a4",
   "metadata": {},
   "outputs": [
    {
     "data": {
      "text/plain": [
       "array([[1],\n",
       "       [2],\n",
       "       [3]])"
      ]
     },
     "execution_count": 8,
     "metadata": {},
     "output_type": "execute_result"
    }
   ],
   "source": [
    "# another way to create NumPy column vector\n",
    "otherColVec = np.array([ [1,2,3] ]).T\n",
    "otherColVec"
   ]
  },
  {
   "cell_type": "code",
   "execution_count": 9,
   "id": "37e3121f",
   "metadata": {},
   "outputs": [
    {
     "data": {
      "text/plain": [
       "array([[1],\n",
       "       [2],\n",
       "       [3]])"
      ]
     },
     "execution_count": 9,
     "metadata": {},
     "output_type": "execute_result"
    }
   ],
   "source": [
    "# another way to create NumPy column vector (using reshape)\n",
    "anotherColVec = np.array([ [1,2,3] ])\n",
    "anotherColVec = anotherColVec.reshape(3, 1)\n",
    "anotherColVec"
   ]
  },
  {
   "cell_type": "markdown",
   "id": "b57fbd4a",
   "metadata": {},
   "source": [
    "### Data Shape"
   ]
  },
  {
   "cell_type": "code",
   "execution_count": 18,
   "id": "285fde7a",
   "metadata": {},
   "outputs": [
    {
     "name": "stdout",
     "output_type": "stream",
     "text": [
      "scalar: ()\n",
      "asList: (3,)\n",
      "asArray: (3,)\n",
      "rowVec: (1, 3)\n",
      "colVec - method 1: (3, 1)\n",
      "colVec - method 2: (3, 1)\n",
      "colVec - method 3: (3, 1)\n"
     ]
    }
   ],
   "source": [
    "# checking orientation by examining variables shape\n",
    "# dimensions are always listed as (rows , columns)\n",
    "# print(f'scalar: {s.shape}') \n",
    "print(f'scalar: {np.shape(s)}') \n",
    "print(f'asList: {np.shape(asList)}') \n",
    "print(f'asArray: {asArray.shape}') \n",
    "print(f'rowVec: {rowVec.shape}') \n",
    "print(f'colVec - method 1: {colVec.shape}') \n",
    "print(f'colVec - method 2: {otherColVec.shape}') \n",
    "print(f'colVec - method 3: {anotherColVec.shape}') "
   ]
  },
  {
   "cell_type": "markdown",
   "id": "e6fbeaef",
   "metadata": {},
   "source": [
    "### Data Type"
   ]
  },
  {
   "cell_type": "code",
   "execution_count": 16,
   "id": "f5fd9694",
   "metadata": {},
   "outputs": [
    {
     "name": "stdout",
     "output_type": "stream",
     "text": [
      "scalar: <class 'int'>\n",
      "asList: <class 'list'>\n",
      "asArray: <class 'numpy.ndarray'>\n",
      "rowVec: <class 'numpy.ndarray'>\n",
      "colVec - method 1: <class 'numpy.ndarray'>\n",
      "colVec - method 2: <class 'numpy.ndarray'>\n",
      "colVec - method 3: <class 'numpy.ndarray'>\n"
     ]
    }
   ],
   "source": [
    "# checking data types\n",
    "print(f'scalar: {type(s)}') \n",
    "print(f'asList: {type(asList)}') \n",
    "print(f'asArray: {type(asArray)}') \n",
    "print(f'rowVec: {type(rowVec)}') \n",
    "print(f'colVec - method 1: {type(colVec)}') \n",
    "print(f'colVec - method 2: {type(otherColVec)}') \n",
    "print(f'colVec - method 3: {type(anotherColVec)}') "
   ]
  },
  {
   "cell_type": "code",
   "execution_count": null,
   "id": "b79646a7",
   "metadata": {},
   "outputs": [],
   "source": []
  }
 ],
 "metadata": {
  "kernelspec": {
   "display_name": "Python 3 (ipykernel)",
   "language": "python",
   "name": "python3"
  },
  "language_info": {
   "codemirror_mode": {
    "name": "ipython",
    "version": 3
   },
   "file_extension": ".py",
   "mimetype": "text/x-python",
   "name": "python",
   "nbconvert_exporter": "python",
   "pygments_lexer": "ipython3",
   "version": "3.9.12"
  }
 },
 "nbformat": 4,
 "nbformat_minor": 5
}
